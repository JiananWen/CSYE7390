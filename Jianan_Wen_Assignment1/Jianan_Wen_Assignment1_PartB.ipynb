{
 "cells": [
  {
   "cell_type": "code",
   "execution_count": 54,
   "metadata": {},
   "outputs": [],
   "source": [
    "import urllib3\n",
    "import datetime"
   ]
  },
  {
   "cell_type": "code",
   "execution_count": 55,
   "metadata": {},
   "outputs": [],
   "source": [
    "import unicodedata"
   ]
  },
  {
   "cell_type": "code",
   "execution_count": 56,
   "metadata": {},
   "outputs": [],
   "source": [
    "from bs4 import BeautifulSoup, SoupStrainer, Comment\n",
    "import warnings\n",
    "warnings.filterwarnings('ignore')"
   ]
  },
  {
   "cell_type": "code",
   "execution_count": 57,
   "metadata": {},
   "outputs": [],
   "source": [
    "url='https://www.bookbub.com/ebook-deals/free-kindle-books'"
   ]
  },
  {
   "cell_type": "code",
   "execution_count": 58,
   "metadata": {},
   "outputs": [
    {
     "name": "stdout",
     "output_type": "stream",
     "text": [
      "200\n"
     ]
    }
   ],
   "source": [
    "\n",
    "http = urllib3.PoolManager()\n",
    "response = http.request('GET',url)\n",
    "print(response.status)"
   ]
  },
  {
   "cell_type": "code",
   "execution_count": 59,
   "metadata": {},
   "outputs": [],
   "source": [
    "\n",
    "soup=BeautifulSoup(response.data, \"lxml\")"
   ]
  },
  {
   "cell_type": "code",
   "execution_count": 60,
   "metadata": {},
   "outputs": [],
   "source": [
    "## find all external links and save into linksDic\n",
    "## 1. the link should begin with 'http'\n",
    "## 2. the link doesn't have this page's domain: 'bookbub.com'"
   ]
  },
  {
   "cell_type": "code",
   "execution_count": 61,
   "metadata": {},
   "outputs": [],
   "source": [
    "linksDic = {}\n",
    "index = 0\n",
    "for link in soup.find_all('a'):\n",
    "    linkString = str(link.get('href'))\n",
    "    if 'http' in linkString:\n",
    "        if 'bookbub.com' not in linkString:\n",
    "            now = datetime.datetime.now().strftime(\"%Y-%m-%d %H:%M\")\n",
    "            linksDic[index] = [linkString, link.text, True, now]\n",
    "            index += 1\n",
    "    \n",
    "    "
   ]
  },
  {
   "cell_type": "code",
   "execution_count": 62,
   "metadata": {},
   "outputs": [],
   "source": [
    "## test if link can work"
   ]
  },
  {
   "cell_type": "code",
   "execution_count": 63,
   "metadata": {},
   "outputs": [],
   "source": [
    "def testLinkValid():\n",
    "    for alink in linksDic:\n",
    "        try:\n",
    "            response = http.request('GET', linksDic[alink][0])\n",
    "            response_status = response.status\n",
    "        except:\n",
    "            print('url is not valid: %s' %(linksDic[alink][0]))\n",
    "            linksDic[alink][2] = False\n",
    "        else:\n",
    "            if response_status != 200:\n",
    "                linksDic[alink][2] = False\n",
    "                print('url is not valid: %s' %(linksDic[alink][0]))\n",
    "            print ('can work: %s' %(linksDic[alink][0]))\n",
    "           "
   ]
  },
  {
   "cell_type": "code",
   "execution_count": 64,
   "metadata": {},
   "outputs": [
    {
     "name": "stdout",
     "output_type": "stream",
     "text": [
      "can work: http://www.whatbrowser.org/\n",
      "can work: http://www.whatarecookies.com/enable.asp\n",
      "can work: http://www.facebook.com/BookBub\n",
      "can work: http://twitter.com/BookBub\n",
      "url is not valid: http://pinterest.com/BookBub\n"
     ]
    }
   ],
   "source": [
    "testLinkValid()"
   ]
  },
  {
   "cell_type": "code",
   "execution_count": null,
   "metadata": {},
   "outputs": [],
   "source": []
  },
  {
   "cell_type": "code",
   "execution_count": 65,
   "metadata": {},
   "outputs": [],
   "source": [
    "import csv"
   ]
  },
  {
   "cell_type": "code",
   "execution_count": 66,
   "metadata": {},
   "outputs": [
    {
     "name": "stdout",
     "output_type": "stream",
     "text": [
      "Writing complete\n"
     ]
    },
    {
     "data": {
      "text/plain": [
       "<function TextIOWrapper.close>"
      ]
     },
     "execution_count": 66,
     "metadata": {},
     "output_type": "execute_result"
    }
   ],
   "source": [
    "myFile = open('URL_Collect.csv', 'w')\n",
    "with myFile:\n",
    "    writer = csv.writer(myFile)\n",
    "    writer.writerow(['URL', 'Text', 'Valid', 'Date'])\n",
    "    for alink in linksDic:\n",
    "        writer.writerow(linksDic[alink])\n",
    "     \n",
    "print(\"Writing complete\")\n",
    "\n",
    "myFile.close"
   ]
  },
  {
   "cell_type": "code",
   "execution_count": null,
   "metadata": {},
   "outputs": [],
   "source": []
  }
 ],
 "metadata": {
  "kernelspec": {
   "display_name": "Python 3",
   "language": "python",
   "name": "python3"
  },
  "language_info": {
   "codemirror_mode": {
    "name": "ipython",
    "version": 3
   },
   "file_extension": ".py",
   "mimetype": "text/x-python",
   "name": "python",
   "nbconvert_exporter": "python",
   "pygments_lexer": "ipython3",
   "version": "3.5.4"
  }
 },
 "nbformat": 4,
 "nbformat_minor": 2
}
